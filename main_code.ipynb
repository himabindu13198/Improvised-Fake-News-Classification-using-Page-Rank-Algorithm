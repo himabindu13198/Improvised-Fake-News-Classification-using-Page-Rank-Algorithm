{
 "cells": [
  {
   "cell_type": "code",
   "execution_count": 1,
   "metadata": {},
   "outputs": [],
   "source": [
    "import pandas as pd"
   ]
  },
  {
   "cell_type": "code",
   "execution_count": 2,
   "metadata": {},
   "outputs": [],
   "source": [
    "data = pd.read_csv('data.csv')"
   ]
  },
  {
   "cell_type": "markdown",
   "metadata": {},
   "source": [
    "In the given kaggle dataset, label = 1 means real news and label = 0 means fake news.\n",
    "\n",
    "- Preprocessing:"
   ]
  },
  {
   "cell_type": "code",
   "execution_count": 10,
   "metadata": {},
   "outputs": [
    {
     "name": "stdout",
     "output_type": "stream",
     "text": [
      "Features in the current dataset: Index(['URLs', 'Headline', 'Body', 'Label'], dtype='object')\n"
     ]
    }
   ],
   "source": [
    "print(\"Features in the current dataset:\", data.columns)"
   ]
  },
  {
   "cell_type": "markdown",
   "metadata": {},
   "source": [
    "Only label is a continuous feature.URLs can be treated as categorical features. Rest are text data. No preprocessing for continuous features needed here since there are no continuous features. Since URLs can be considered as categorical data, we can use target encoding for its preprocessing in the pipeline."
   ]
  },
  {
   "cell_type": "code",
   "execution_count": 11,
   "metadata": {},
   "outputs": [
    {
     "data": {
      "text/plain": [
       "URLs        3352\n",
       "Headline    2831\n",
       "Body        2863\n",
       "Label          2\n",
       "dtype: int64"
      ]
     },
     "execution_count": 11,
     "metadata": {},
     "output_type": "execute_result"
    }
   ],
   "source": [
    "#exploration of data\n",
    "data.nunique(axis=0)"
   ]
  },
  {
   "cell_type": "markdown",
   "metadata": {},
   "source": [
    "There are non unique values in all columns"
   ]
  },
  {
   "cell_type": "code",
   "execution_count": 12,
   "metadata": {},
   "outputs": [
    {
     "data": {
      "text/plain": [
       "4009"
      ]
     },
     "execution_count": 12,
     "metadata": {},
     "output_type": "execute_result"
    }
   ],
   "source": [
    "len(data)"
   ]
  },
  {
   "cell_type": "code",
   "execution_count": 14,
   "metadata": {},
   "outputs": [
    {
     "data": {
      "text/plain": [
       "0"
      ]
     },
     "execution_count": 14,
     "metadata": {},
     "output_type": "execute_result"
    }
   ],
   "source": [
    "len(data)-len(data.drop_duplicates())"
   ]
  },
  {
   "cell_type": "markdown",
   "metadata": {},
   "source": [
    "But there are no duplicate rows"
   ]
  },
  {
   "cell_type": "code",
   "execution_count": 15,
   "metadata": {},
   "outputs": [
    {
     "data": {
      "text/plain": [
       "4009"
      ]
     },
     "execution_count": 15,
     "metadata": {},
     "output_type": "execute_result"
    }
   ],
   "source": [
    "len(data)"
   ]
  },
  {
   "cell_type": "code",
   "execution_count": 23,
   "metadata": {},
   "outputs": [],
   "source": [
    "#inspecting duplicate columns values for inspection\n",
    "df_sameURLs = data[data.duplicated('URLs', keep=False)].sort_values('URLs')"
   ]
  },
  {
   "cell_type": "code",
   "execution_count": 24,
   "metadata": {},
   "outputs": [
    {
     "data": {
      "text/html": [
       "<div>\n",
       "<style scoped>\n",
       "    .dataframe tbody tr th:only-of-type {\n",
       "        vertical-align: middle;\n",
       "    }\n",
       "\n",
       "    .dataframe tbody tr th {\n",
       "        vertical-align: top;\n",
       "    }\n",
       "\n",
       "    .dataframe thead th {\n",
       "        text-align: right;\n",
       "    }\n",
       "</style>\n",
       "<table border=\"1\" class=\"dataframe\">\n",
       "  <thead>\n",
       "    <tr style=\"text-align: right;\">\n",
       "      <th></th>\n",
       "      <th>URLs</th>\n",
       "      <th>Headline</th>\n",
       "      <th>Body</th>\n",
       "      <th>Label</th>\n",
       "    </tr>\n",
       "  </thead>\n",
       "  <tbody>\n",
       "    <tr>\n",
       "      <th>2491</th>\n",
       "      <td>http://beforeitsnews.com/entertainment/2017/09...</td>\n",
       "      <td>10 Shocking Facts About Porn You Probably Didn...</td>\n",
       "      <td>Pink Floyd comfortably numb! Not for long but ...</td>\n",
       "      <td>0</td>\n",
       "    </tr>\n",
       "    <tr>\n",
       "      <th>1015</th>\n",
       "      <td>http://beforeitsnews.com/entertainment/2017/09...</td>\n",
       "      <td>10 Shocking Facts About Porn You Probably Didn...</td>\n",
       "      <td>An Embattled Pharmaceutical Company That Sells...</td>\n",
       "      <td>0</td>\n",
       "    </tr>\n",
       "    <tr>\n",
       "      <th>1021</th>\n",
       "      <td>http://beforeitsnews.com/entertainment/2017/09...</td>\n",
       "      <td>10 Shocking Facts About Porn You Probably Didn...</td>\n",
       "      <td>Vietnam Is in Great Danger, You Must Publish a...</td>\n",
       "      <td>0</td>\n",
       "    </tr>\n",
       "    <tr>\n",
       "      <th>3699</th>\n",
       "      <td>http://beforeitsnews.com/entertainment/2017/09...</td>\n",
       "      <td>10 Shocking Facts About Porn You Probably Didn...</td>\n",
       "      <td>Shooter's Hotel Room: Bad News After What Was ...</td>\n",
       "      <td>0</td>\n",
       "    </tr>\n",
       "    <tr>\n",
       "      <th>3408</th>\n",
       "      <td>http://beforeitsnews.com/entertainment/2017/10...</td>\n",
       "      <td>10 Awful Moments Caught on Video!</td>\n",
       "      <td>10 Awful Moments Caught on Video!\\n% of reader...</td>\n",
       "      <td>0</td>\n",
       "    </tr>\n",
       "    <tr>\n",
       "      <th>...</th>\n",
       "      <td>...</td>\n",
       "      <td>...</td>\n",
       "      <td>...</td>\n",
       "      <td>...</td>\n",
       "    </tr>\n",
       "    <tr>\n",
       "      <th>2180</th>\n",
       "      <td>https://www.reuters.com/article/us-usa-ruralam...</td>\n",
       "      <td>Trump's popularity is slipping in rural Americ...</td>\n",
       "      <td>(Reuters) - Outside the Morgan County fair in ...</td>\n",
       "      <td>1</td>\n",
       "    </tr>\n",
       "    <tr>\n",
       "      <th>1766</th>\n",
       "      <td>https://www.reuters.com/article/us-usa-turkey-...</td>\n",
       "      <td>Turkey urges U.S. to review visa suspension as...</td>\n",
       "      <td>ANKARA (Reuters) - Turkey urged the United Sta...</td>\n",
       "      <td>1</td>\n",
       "    </tr>\n",
       "    <tr>\n",
       "      <th>1736</th>\n",
       "      <td>https://www.reuters.com/article/us-usa-turkey-...</td>\n",
       "      <td>Turkey urges U.S. to review visa suspension as...</td>\n",
       "      <td>ANKARA (Reuters) - Turkey urged the United Sta...</td>\n",
       "      <td>1</td>\n",
       "    </tr>\n",
       "    <tr>\n",
       "      <th>2795</th>\n",
       "      <td>https://www.reuters.com/article/us-usa-vietnam...</td>\n",
       "      <td>Highlighting Vietnam War's relevance, exhibit ...</td>\n",
       "      <td>An exhibit about the Vietnam War is seen at th...</td>\n",
       "      <td>1</td>\n",
       "    </tr>\n",
       "    <tr>\n",
       "      <th>2011</th>\n",
       "      <td>https://www.reuters.com/article/us-usa-vietnam...</td>\n",
       "      <td>Highlighting Vietnam War's relevance, exhibit ...</td>\n",
       "      <td>An exhibit about the Vietnam War is seen at th...</td>\n",
       "      <td>1</td>\n",
       "    </tr>\n",
       "  </tbody>\n",
       "</table>\n",
       "<p>953 rows × 4 columns</p>\n",
       "</div>"
      ],
      "text/plain": [
       "                                                   URLs  \\\n",
       "2491  http://beforeitsnews.com/entertainment/2017/09...   \n",
       "1015  http://beforeitsnews.com/entertainment/2017/09...   \n",
       "1021  http://beforeitsnews.com/entertainment/2017/09...   \n",
       "3699  http://beforeitsnews.com/entertainment/2017/09...   \n",
       "3408  http://beforeitsnews.com/entertainment/2017/10...   \n",
       "...                                                 ...   \n",
       "2180  https://www.reuters.com/article/us-usa-ruralam...   \n",
       "1766  https://www.reuters.com/article/us-usa-turkey-...   \n",
       "1736  https://www.reuters.com/article/us-usa-turkey-...   \n",
       "2795  https://www.reuters.com/article/us-usa-vietnam...   \n",
       "2011  https://www.reuters.com/article/us-usa-vietnam...   \n",
       "\n",
       "                                               Headline  \\\n",
       "2491  10 Shocking Facts About Porn You Probably Didn...   \n",
       "1015  10 Shocking Facts About Porn You Probably Didn...   \n",
       "1021  10 Shocking Facts About Porn You Probably Didn...   \n",
       "3699  10 Shocking Facts About Porn You Probably Didn...   \n",
       "3408                  10 Awful Moments Caught on Video!   \n",
       "...                                                 ...   \n",
       "2180  Trump's popularity is slipping in rural Americ...   \n",
       "1766  Turkey urges U.S. to review visa suspension as...   \n",
       "1736  Turkey urges U.S. to review visa suspension as...   \n",
       "2795  Highlighting Vietnam War's relevance, exhibit ...   \n",
       "2011  Highlighting Vietnam War's relevance, exhibit ...   \n",
       "\n",
       "                                                   Body  Label  \n",
       "2491  Pink Floyd comfortably numb! Not for long but ...      0  \n",
       "1015  An Embattled Pharmaceutical Company That Sells...      0  \n",
       "1021  Vietnam Is in Great Danger, You Must Publish a...      0  \n",
       "3699  Shooter's Hotel Room: Bad News After What Was ...      0  \n",
       "3408  10 Awful Moments Caught on Video!\\n% of reader...      0  \n",
       "...                                                 ...    ...  \n",
       "2180  (Reuters) - Outside the Morgan County fair in ...      1  \n",
       "1766  ANKARA (Reuters) - Turkey urged the United Sta...      1  \n",
       "1736  ANKARA (Reuters) - Turkey urged the United Sta...      1  \n",
       "2795  An exhibit about the Vietnam War is seen at th...      1  \n",
       "2011  An exhibit about the Vietnam War is seen at th...      1  \n",
       "\n",
       "[953 rows x 4 columns]"
      ]
     },
     "execution_count": 24,
     "metadata": {},
     "output_type": "execute_result"
    }
   ],
   "source": [
    "df_sameURLs"
   ]
  },
  {
   "cell_type": "code",
   "execution_count": 25,
   "metadata": {},
   "outputs": [
    {
     "data": {
      "text/plain": [
       "URLs        http://beforeitsnews.com/entertainment/2017/09...\n",
       "Headline    10 Shocking Facts About Porn You Probably Didn...\n",
       "Body        Pink Floyd comfortably numb! Not for long but ...\n",
       "Label                                                       0\n",
       "Name: 2491, dtype: object"
      ]
     },
     "execution_count": 25,
     "metadata": {},
     "output_type": "execute_result"
    }
   ],
   "source": [
    "#We see same URLs\n",
    "df_sameURLs.loc[2491]"
   ]
  },
  {
   "cell_type": "code",
   "execution_count": 26,
   "metadata": {},
   "outputs": [
    {
     "data": {
      "text/plain": [
       "URLs        http://beforeitsnews.com/entertainment/2017/09...\n",
       "Headline    10 Shocking Facts About Porn You Probably Didn...\n",
       "Body        An Embattled Pharmaceutical Company That Sells...\n",
       "Label                                                       0\n",
       "Name: 1015, dtype: object"
      ]
     },
     "execution_count": 26,
     "metadata": {},
     "output_type": "execute_result"
    }
   ],
   "source": [
    "df_sameURLs.loc[1015]"
   ]
  },
  {
   "cell_type": "code",
   "execution_count": 27,
   "metadata": {},
   "outputs": [
    {
     "data": {
      "text/html": [
       "<div>\n",
       "<style scoped>\n",
       "    .dataframe tbody tr th:only-of-type {\n",
       "        vertical-align: middle;\n",
       "    }\n",
       "\n",
       "    .dataframe tbody tr th {\n",
       "        vertical-align: top;\n",
       "    }\n",
       "\n",
       "    .dataframe thead th {\n",
       "        text-align: right;\n",
       "    }\n",
       "</style>\n",
       "<table border=\"1\" class=\"dataframe\">\n",
       "  <thead>\n",
       "    <tr style=\"text-align: right;\">\n",
       "      <th></th>\n",
       "      <th>URLs</th>\n",
       "      <th>Headline</th>\n",
       "      <th>Body</th>\n",
       "      <th>Label</th>\n",
       "    </tr>\n",
       "  </thead>\n",
       "  <tbody>\n",
       "    <tr>\n",
       "      <th>2175</th>\n",
       "      <td>http://beforeitsnews.com/u-s-politics/2017/10/...</td>\n",
       "      <td>\"Everything was burned\" Rohingya Remain Doubtf...</td>\n",
       "      <td>A Potato Battery Can Light up a Room for Over ...</td>\n",
       "      <td>0</td>\n",
       "    </tr>\n",
       "    <tr>\n",
       "      <th>745</th>\n",
       "      <td>http://beforeitsnews.com/u-s-politics/2017/10/...</td>\n",
       "      <td>\"Everything was burned\" Rohingya Remain Doubtf...</td>\n",
       "      <td>Vietnam Is in Great Danger, You Must Publish a...</td>\n",
       "      <td>0</td>\n",
       "    </tr>\n",
       "    <tr>\n",
       "      <th>1825</th>\n",
       "      <td>http://beforeitsnews.com/u-s-politics/2017/10/...</td>\n",
       "      <td>\"Everything was burned\" Rohingya Remain Doubtf...</td>\n",
       "      <td>Red Flag Warning: These California Wildfires A...</td>\n",
       "      <td>0</td>\n",
       "    </tr>\n",
       "    <tr>\n",
       "      <th>2229</th>\n",
       "      <td>http://beforeitsnews.com/u-s-politics/2017/10/...</td>\n",
       "      <td>\"Everything was burned\" Rohingya Remain Doubtf...</td>\n",
       "      <td>Warning Something Big Is About to Happen in Am...</td>\n",
       "      <td>0</td>\n",
       "    </tr>\n",
       "    <tr>\n",
       "      <th>1680</th>\n",
       "      <td>http://beforeitsnews.com/u-s-politics/2017/10/...</td>\n",
       "      <td>\"Everything was burned\" Rohingya Remain Doubtf...</td>\n",
       "      <td>An Embattled Pharmaceutical Company That Sells...</td>\n",
       "      <td>0</td>\n",
       "    </tr>\n",
       "    <tr>\n",
       "      <th>...</th>\n",
       "      <td>...</td>\n",
       "      <td>...</td>\n",
       "      <td>...</td>\n",
       "      <td>...</td>\n",
       "    </tr>\n",
       "    <tr>\n",
       "      <th>794</th>\n",
       "      <td>http://dailybuzzlive.com/police-wont-release-i...</td>\n",
       "      <td>‘These people need to be protected’: Police wo...</td>\n",
       "      <td>A group of white teens attacked an 8-year-old ...</td>\n",
       "      <td>0</td>\n",
       "    </tr>\n",
       "    <tr>\n",
       "      <th>3943</th>\n",
       "      <td>http://beforeitsnews.com/u-s-politics/2017/09/...</td>\n",
       "      <td>“Racist Propaganda”: Librarian Rejects Books D...</td>\n",
       "      <td>“Racist Propaganda”: Librarian Rejects Books D...</td>\n",
       "      <td>0</td>\n",
       "    </tr>\n",
       "    <tr>\n",
       "      <th>828</th>\n",
       "      <td>http://beforeitsnews.com/u-s-politics/2017/09/...</td>\n",
       "      <td>“Racist Propaganda”: Librarian Rejects Books D...</td>\n",
       "      <td>Warning Something Big Is About to Happen in Am...</td>\n",
       "      <td>0</td>\n",
       "    </tr>\n",
       "    <tr>\n",
       "      <th>2233</th>\n",
       "      <td>http://beforeitsnews.com/u-s-politics/2017/09/...</td>\n",
       "      <td>“Racist Propaganda”: Librarian Rejects Books D...</td>\n",
       "      <td>An Embattled Pharmaceutical Company That Sells...</td>\n",
       "      <td>0</td>\n",
       "    </tr>\n",
       "    <tr>\n",
       "      <th>3376</th>\n",
       "      <td>http://beforeitsnews.com/u-s-politics/2017/09/...</td>\n",
       "      <td>“Racist Propaganda”: Librarian Rejects Books D...</td>\n",
       "      <td>A Potato Battery Can Light up a Room for Over ...</td>\n",
       "      <td>0</td>\n",
       "    </tr>\n",
       "  </tbody>\n",
       "</table>\n",
       "<p>1932 rows × 4 columns</p>\n",
       "</div>"
      ],
      "text/plain": [
       "                                                   URLs  \\\n",
       "2175  http://beforeitsnews.com/u-s-politics/2017/10/...   \n",
       "745   http://beforeitsnews.com/u-s-politics/2017/10/...   \n",
       "1825  http://beforeitsnews.com/u-s-politics/2017/10/...   \n",
       "2229  http://beforeitsnews.com/u-s-politics/2017/10/...   \n",
       "1680  http://beforeitsnews.com/u-s-politics/2017/10/...   \n",
       "...                                                 ...   \n",
       "794   http://dailybuzzlive.com/police-wont-release-i...   \n",
       "3943  http://beforeitsnews.com/u-s-politics/2017/09/...   \n",
       "828   http://beforeitsnews.com/u-s-politics/2017/09/...   \n",
       "2233  http://beforeitsnews.com/u-s-politics/2017/09/...   \n",
       "3376  http://beforeitsnews.com/u-s-politics/2017/09/...   \n",
       "\n",
       "                                               Headline  \\\n",
       "2175  \"Everything was burned\" Rohingya Remain Doubtf...   \n",
       "745   \"Everything was burned\" Rohingya Remain Doubtf...   \n",
       "1825  \"Everything was burned\" Rohingya Remain Doubtf...   \n",
       "2229  \"Everything was burned\" Rohingya Remain Doubtf...   \n",
       "1680  \"Everything was burned\" Rohingya Remain Doubtf...   \n",
       "...                                                 ...   \n",
       "794   ‘These people need to be protected’: Police wo...   \n",
       "3943  “Racist Propaganda”: Librarian Rejects Books D...   \n",
       "828   “Racist Propaganda”: Librarian Rejects Books D...   \n",
       "2233  “Racist Propaganda”: Librarian Rejects Books D...   \n",
       "3376  “Racist Propaganda”: Librarian Rejects Books D...   \n",
       "\n",
       "                                                   Body  Label  \n",
       "2175  A Potato Battery Can Light up a Room for Over ...      0  \n",
       "745   Vietnam Is in Great Danger, You Must Publish a...      0  \n",
       "1825  Red Flag Warning: These California Wildfires A...      0  \n",
       "2229  Warning Something Big Is About to Happen in Am...      0  \n",
       "1680  An Embattled Pharmaceutical Company That Sells...      0  \n",
       "...                                                 ...    ...  \n",
       "794   A group of white teens attacked an 8-year-old ...      0  \n",
       "3943  “Racist Propaganda”: Librarian Rejects Books D...      0  \n",
       "828   Warning Something Big Is About to Happen in Am...      0  \n",
       "2233  An Embattled Pharmaceutical Company That Sells...      0  \n",
       "3376  A Potato Battery Can Light up a Room for Over ...      0  \n",
       "\n",
       "[1932 rows x 4 columns]"
      ]
     },
     "execution_count": 27,
     "metadata": {},
     "output_type": "execute_result"
    }
   ],
   "source": [
    "#inspecting duplicate columns values for inspection in headline\n",
    "df_sameHeadline = data[data.duplicated('Headline', keep=False)].sort_values('Headline')\n",
    "df_sameHeadline"
   ]
  },
  {
   "cell_type": "code",
   "execution_count": 30,
   "metadata": {},
   "outputs": [
    {
     "data": {
      "text/plain": [
       "URLs        http://beforeitsnews.com/u-s-politics/2017/10/...\n",
       "Headline    \"Everything was burned\" Rohingya Remain Doubtf...\n",
       "Body        A Potato Battery Can Light up a Room for Over ...\n",
       "Label                                                       0\n",
       "Name: 2175, dtype: object"
      ]
     },
     "execution_count": 30,
     "metadata": {},
     "output_type": "execute_result"
    }
   ],
   "source": [
    "df_sameHeadline.loc[2175]"
   ]
  },
  {
   "cell_type": "code",
   "execution_count": 31,
   "metadata": {},
   "outputs": [
    {
     "data": {
      "text/plain": [
       "URLs        http://beforeitsnews.com/u-s-politics/2017/10/...\n",
       "Headline    \"Everything was burned\" Rohingya Remain Doubtf...\n",
       "Body        Vietnam Is in Great Danger, You Must Publish a...\n",
       "Label                                                       0\n",
       "Name: 745, dtype: object"
      ]
     },
     "execution_count": 31,
     "metadata": {},
     "output_type": "execute_result"
    }
   ],
   "source": [
    "df_sameHeadline.loc[745]"
   ]
  },
  {
   "cell_type": "markdown",
   "metadata": {},
   "source": [
    "On inspection, it seems like dummy data was created. Since the focus of this work is more on merging PageRank algorithm to a classification model, we move on from this non-unique data issue."
   ]
  },
  {
   "cell_type": "code",
   "execution_count": 32,
   "metadata": {},
   "outputs": [
    {
     "data": {
      "text/plain": [
       "URLs         0\n",
       "Headline     0\n",
       "Body        21\n",
       "Label        0\n",
       "dtype: int64"
      ]
     },
     "execution_count": 32,
     "metadata": {},
     "output_type": "execute_result"
    }
   ],
   "source": [
    "#checking for missing data\n",
    "data.isna().sum()"
   ]
  },
  {
   "cell_type": "markdown",
   "metadata": {},
   "source": [
    "Body column has 21 missing values. For the time being, I am dropping these 21 rows. (in the end, if time remains, I will think of ways like using the nearest sentence (using its vector form from word2vec representation) to find an imputation way). I am also not doing missing data pattern exploration in the interest of time."
   ]
  },
  {
   "cell_type": "code",
   "execution_count": 34,
   "metadata": {},
   "outputs": [
    {
     "data": {
      "text/plain": [
       "3988"
      ]
     },
     "execution_count": 34,
     "metadata": {},
     "output_type": "execute_result"
    }
   ],
   "source": [
    "#dropping rows with null values\n",
    "len(data.dropna(axis=0))"
   ]
  },
  {
   "cell_type": "code",
   "execution_count": 36,
   "metadata": {},
   "outputs": [],
   "source": [
    "data = data.dropna(axis=0)\n",
    "# len(data)"
   ]
  },
  {
   "cell_type": "markdown",
   "metadata": {},
   "source": [
    "Baseline Model using the features in the dataset first: (model chosen here is SVC -- on literature review, SVMs performed better for fake news detection)"
   ]
  },
  {
   "cell_type": "code",
   "execution_count": 46,
   "metadata": {},
   "outputs": [],
   "source": [
    "X = data.drop(columns = \"Label\")\n",
    "y = data['Label']"
   ]
  },
  {
   "cell_type": "code",
   "execution_count": 55,
   "metadata": {},
   "outputs": [],
   "source": [
    "#Simple text-based model using a bag-of-words approach and a linear model\n",
    "from sklearn.feature_extraction.text import CountVectorizer\n",
    "from sklearn.model_selection import train_test_split\n",
    "\n",
    "\n",
    "X['headline+body'] = X['Headline'] + X['Body']\n",
    "X.drop(['Headline','Body'], axis = 1)\n",
    "X_train, X_test, y_train, y_test = train_test_split(X, y)\n",
    "\n",
    "# vect = CountVectorizer()\n",
    "# X_train = vect.fit_transform(X_train['headline+body'])"
   ]
  },
  {
   "cell_type": "code",
   "execution_count": 57,
   "metadata": {},
   "outputs": [
    {
     "data": {
      "text/plain": [
       "0.964894110027303"
      ]
     },
     "execution_count": 57,
     "metadata": {},
     "output_type": "execute_result"
    }
   ],
   "source": [
    "#model\n",
    "import numpy as np\n",
    "from sklearn.svm import LinearSVC\n",
    "from category_encoders import TargetEncoder\n",
    "from sklearn.pipeline import make_pipeline\n",
    "from sklearn.model_selection import cross_val_score\n",
    "from sklearn.compose import ColumnTransformer, make_column_transformer\n",
    "\n",
    "preprocess = make_column_transformer(\n",
    "    (TargetEncoder(), 'URLs'),(CountVectorizer(),'headline+body'))\n",
    "model = make_pipeline(preprocess, LinearSVC(max_iter=1000, tol=0.0001, dual = False))\n",
    "scores = cross_val_score(model, X_train, y_train)\n",
    "np.mean(scores)"
   ]
  },
  {
   "cell_type": "markdown",
   "metadata": {},
   "source": [
    "Model with the given features gives a cross validation score of 96.49. Now we check with the added feature from PageRank algorithm."
   ]
  },
  {
   "cell_type": "code",
   "execution_count": 75,
   "metadata": {},
   "outputs": [],
   "source": [
    "#Creating input dataset to pagerank algorithm\n",
    "import pandas as pd\n",
    "\n",
    "def create_page_rank_dummy_relations():\n",
    "    df = pd.read_csv('data.csv')\n",
    "    urls = df['URLs']\n",
    "    labels = df['Label']\n",
    "    n = len(urls)\n",
    "    csv = pd.DataFrame()\n",
    "    res = []\n",
    "\n",
    "    for i in range(1, n):\n",
    "        res.append((urls[i - 1], urls[i]))\n",
    "        if labels[i] == 0:\n",
    "            res.append((urls[i - 1], urls[i]))\n",
    "        else:\n",
    "            # Create more relations for genuine links\n",
    "            if i < n - 4:\n",
    "                res.append((urls[i + 1], urls[i]))\n",
    "                res.append((urls[i + 2], urls[i]))\n",
    "                res.append((urls[i + 3], urls[i]))\n",
    "            if i > 5:\n",
    "                res.append((urls[i - 1], urls[i]))\n",
    "                res.append((urls[i - 2], urls[i]))\n",
    "                res.append((urls[i - 3], urls[i]))\n",
    "                res.append((urls[i - 4], urls[i]))\n",
    "                \n",
    "    csv['From'] = [i for i, j in res]\n",
    "    csv['To'] = [j for i, j in res]\n",
    "    # save result to result.csv\n",
    "    csv.to_csv('result.csv',index=False)\n",
    "create_page_rank_dummy_relations()"
   ]
  },
  {
   "cell_type": "code",
   "execution_count": 77,
   "metadata": {},
   "outputs": [
    {
     "data": {
      "text/html": [
       "<div>\n",
       "<style scoped>\n",
       "    .dataframe tbody tr th:only-of-type {\n",
       "        vertical-align: middle;\n",
       "    }\n",
       "\n",
       "    .dataframe tbody tr th {\n",
       "        vertical-align: top;\n",
       "    }\n",
       "\n",
       "    .dataframe thead th {\n",
       "        text-align: right;\n",
       "    }\n",
       "</style>\n",
       "<table border=\"1\" class=\"dataframe\">\n",
       "  <thead>\n",
       "    <tr style=\"text-align: right;\">\n",
       "      <th></th>\n",
       "      <th>From</th>\n",
       "      <th>To</th>\n",
       "    </tr>\n",
       "  </thead>\n",
       "  <tbody>\n",
       "    <tr>\n",
       "      <th>0</th>\n",
       "      <td>http://www.bbc.com/news/world-us-canada-414191...</td>\n",
       "      <td>https://www.reuters.com/article/us-filmfestiva...</td>\n",
       "    </tr>\n",
       "    <tr>\n",
       "      <th>1</th>\n",
       "      <td>https://www.nytimes.com/2017/10/09/us/politics...</td>\n",
       "      <td>https://www.reuters.com/article/us-filmfestiva...</td>\n",
       "    </tr>\n",
       "    <tr>\n",
       "      <th>2</th>\n",
       "      <td>https://www.reuters.com/article/us-mexico-oil-...</td>\n",
       "      <td>https://www.reuters.com/article/us-filmfestiva...</td>\n",
       "    </tr>\n",
       "    <tr>\n",
       "      <th>3</th>\n",
       "      <td>http://www.cnn.com/videos/cnnmoney/2017/10/08/...</td>\n",
       "      <td>https://www.reuters.com/article/us-filmfestiva...</td>\n",
       "    </tr>\n",
       "    <tr>\n",
       "      <th>4</th>\n",
       "      <td>https://www.reuters.com/article/us-filmfestiva...</td>\n",
       "      <td>https://www.nytimes.com/2017/10/09/us/politics...</td>\n",
       "    </tr>\n",
       "  </tbody>\n",
       "</table>\n",
       "</div>"
      ],
      "text/plain": [
       "                                                From  \\\n",
       "0  http://www.bbc.com/news/world-us-canada-414191...   \n",
       "1  https://www.nytimes.com/2017/10/09/us/politics...   \n",
       "2  https://www.reuters.com/article/us-mexico-oil-...   \n",
       "3  http://www.cnn.com/videos/cnnmoney/2017/10/08/...   \n",
       "4  https://www.reuters.com/article/us-filmfestiva...   \n",
       "\n",
       "                                                  To  \n",
       "0  https://www.reuters.com/article/us-filmfestiva...  \n",
       "1  https://www.reuters.com/article/us-filmfestiva...  \n",
       "2  https://www.reuters.com/article/us-filmfestiva...  \n",
       "3  https://www.reuters.com/article/us-filmfestiva...  \n",
       "4  https://www.nytimes.com/2017/10/09/us/politics...  "
      ]
     },
     "execution_count": 77,
     "metadata": {},
     "output_type": "execute_result"
    }
   ],
   "source": [
    "input_to_pagerank =  pd.read_csv('result.csv')\n",
    "input_to_pagerank.head()"
   ]
  },
  {
   "cell_type": "code",
   "execution_count": 88,
   "metadata": {},
   "outputs": [],
   "source": [
    "#output from pagerank algorithm\n",
    "feature = pd.read_csv('newfeature.csv', header = None)"
   ]
  },
  {
   "cell_type": "code",
   "execution_count": 89,
   "metadata": {},
   "outputs": [
    {
     "data": {
      "text/html": [
       "<div>\n",
       "<style scoped>\n",
       "    .dataframe tbody tr th:only-of-type {\n",
       "        vertical-align: middle;\n",
       "    }\n",
       "\n",
       "    .dataframe tbody tr th {\n",
       "        vertical-align: top;\n",
       "    }\n",
       "\n",
       "    .dataframe thead th {\n",
       "        text-align: right;\n",
       "    }\n",
       "</style>\n",
       "<table border=\"1\" class=\"dataframe\">\n",
       "  <thead>\n",
       "    <tr style=\"text-align: right;\">\n",
       "      <th></th>\n",
       "      <th>0</th>\n",
       "      <th>1</th>\n",
       "    </tr>\n",
       "  </thead>\n",
       "  <tbody>\n",
       "    <tr>\n",
       "      <th>0</th>\n",
       "      <td>http://www.bbc.com/sport/tennis/41586968</td>\n",
       "      <td>0.182078</td>\n",
       "    </tr>\n",
       "    <tr>\n",
       "      <th>1</th>\n",
       "      <td>https://www.reuters.com/article/us-mexico-slim...</td>\n",
       "      <td>0.211446</td>\n",
       "    </tr>\n",
       "    <tr>\n",
       "      <th>2</th>\n",
       "      <td>http://www.disclose.tv/news/the_ancient_tomb_o...</td>\n",
       "      <td>0.211171</td>\n",
       "    </tr>\n",
       "    <tr>\n",
       "      <th>3</th>\n",
       "      <td>http://www.cnn.com/2017/10/03/health/abortion-...</td>\n",
       "      <td>0.188691</td>\n",
       "    </tr>\n",
       "    <tr>\n",
       "      <th>4</th>\n",
       "      <td>https://www.reuters.com/article/us-science-hum...</td>\n",
       "      <td>0.190198</td>\n",
       "    </tr>\n",
       "  </tbody>\n",
       "</table>\n",
       "</div>"
      ],
      "text/plain": [
       "                                                   0         1\n",
       "0           http://www.bbc.com/sport/tennis/41586968  0.182078\n",
       "1  https://www.reuters.com/article/us-mexico-slim...  0.211446\n",
       "2  http://www.disclose.tv/news/the_ancient_tomb_o...  0.211171\n",
       "3  http://www.cnn.com/2017/10/03/health/abortion-...  0.188691\n",
       "4  https://www.reuters.com/article/us-science-hum...  0.190198"
      ]
     },
     "execution_count": 89,
     "metadata": {},
     "output_type": "execute_result"
    }
   ],
   "source": [
    "feature.head()"
   ]
  },
  {
   "cell_type": "code",
   "execution_count": 90,
   "metadata": {},
   "outputs": [
    {
     "data": {
      "text/plain": [
       "436"
      ]
     },
     "execution_count": 90,
     "metadata": {},
     "output_type": "execute_result"
    }
   ],
   "source": [
    "len(feature)"
   ]
  },
  {
   "cell_type": "code",
   "execution_count": 99,
   "metadata": {},
   "outputs": [],
   "source": [
    "feature.columns= ['URLs','rank']"
   ]
  },
  {
   "cell_type": "code",
   "execution_count": 100,
   "metadata": {},
   "outputs": [
    {
     "data": {
      "text/html": [
       "<div>\n",
       "<style scoped>\n",
       "    .dataframe tbody tr th:only-of-type {\n",
       "        vertical-align: middle;\n",
       "    }\n",
       "\n",
       "    .dataframe tbody tr th {\n",
       "        vertical-align: top;\n",
       "    }\n",
       "\n",
       "    .dataframe thead th {\n",
       "        text-align: right;\n",
       "    }\n",
       "</style>\n",
       "<table border=\"1\" class=\"dataframe\">\n",
       "  <thead>\n",
       "    <tr style=\"text-align: right;\">\n",
       "      <th></th>\n",
       "      <th>URLs</th>\n",
       "      <th>rank</th>\n",
       "    </tr>\n",
       "  </thead>\n",
       "  <tbody>\n",
       "    <tr>\n",
       "      <th>0</th>\n",
       "      <td>http://www.bbc.com/sport/tennis/41586968</td>\n",
       "      <td>0.182078</td>\n",
       "    </tr>\n",
       "    <tr>\n",
       "      <th>1</th>\n",
       "      <td>https://www.reuters.com/article/us-mexico-slim...</td>\n",
       "      <td>0.211446</td>\n",
       "    </tr>\n",
       "    <tr>\n",
       "      <th>2</th>\n",
       "      <td>http://www.disclose.tv/news/the_ancient_tomb_o...</td>\n",
       "      <td>0.211171</td>\n",
       "    </tr>\n",
       "    <tr>\n",
       "      <th>3</th>\n",
       "      <td>http://www.cnn.com/2017/10/03/health/abortion-...</td>\n",
       "      <td>0.188691</td>\n",
       "    </tr>\n",
       "    <tr>\n",
       "      <th>4</th>\n",
       "      <td>https://www.reuters.com/article/us-science-hum...</td>\n",
       "      <td>0.190198</td>\n",
       "    </tr>\n",
       "    <tr>\n",
       "      <th>...</th>\n",
       "      <td>...</td>\n",
       "      <td>...</td>\n",
       "    </tr>\n",
       "    <tr>\n",
       "      <th>431</th>\n",
       "      <td>http://www.cnn.com/2017/10/07/us/iraq-gay-sold...</td>\n",
       "      <td>0.220944</td>\n",
       "    </tr>\n",
       "    <tr>\n",
       "      <th>432</th>\n",
       "      <td>http://www.cnn.com/2017/10/10/politics/hillary...</td>\n",
       "      <td>0.303364</td>\n",
       "    </tr>\n",
       "    <tr>\n",
       "      <th>433</th>\n",
       "      <td>http://money.cnn.com/2017/10/12/investing/bitc...</td>\n",
       "      <td>0.180330</td>\n",
       "    </tr>\n",
       "    <tr>\n",
       "      <th>434</th>\n",
       "      <td>https://www.reuters.com/article/us-deloitte-cy...</td>\n",
       "      <td>0.242419</td>\n",
       "    </tr>\n",
       "    <tr>\n",
       "      <th>435</th>\n",
       "      <td>https://www.nytimes.com/2017/10/10/us/politics...</td>\n",
       "      <td>0.276377</td>\n",
       "    </tr>\n",
       "  </tbody>\n",
       "</table>\n",
       "<p>436 rows × 2 columns</p>\n",
       "</div>"
      ],
      "text/plain": [
       "                                                  URLs      rank\n",
       "0             http://www.bbc.com/sport/tennis/41586968  0.182078\n",
       "1    https://www.reuters.com/article/us-mexico-slim...  0.211446\n",
       "2    http://www.disclose.tv/news/the_ancient_tomb_o...  0.211171\n",
       "3    http://www.cnn.com/2017/10/03/health/abortion-...  0.188691\n",
       "4    https://www.reuters.com/article/us-science-hum...  0.190198\n",
       "..                                                 ...       ...\n",
       "431  http://www.cnn.com/2017/10/07/us/iraq-gay-sold...  0.220944\n",
       "432  http://www.cnn.com/2017/10/10/politics/hillary...  0.303364\n",
       "433  http://money.cnn.com/2017/10/12/investing/bitc...  0.180330\n",
       "434  https://www.reuters.com/article/us-deloitte-cy...  0.242419\n",
       "435  https://www.nytimes.com/2017/10/10/us/politics...  0.276377\n",
       "\n",
       "[436 rows x 2 columns]"
      ]
     },
     "execution_count": 100,
     "metadata": {},
     "output_type": "execute_result"
    }
   ],
   "source": [
    "feature"
   ]
  },
  {
   "cell_type": "code",
   "execution_count": 94,
   "metadata": {},
   "outputs": [
    {
     "data": {
      "text/html": [
       "<div>\n",
       "<style scoped>\n",
       "    .dataframe tbody tr th:only-of-type {\n",
       "        vertical-align: middle;\n",
       "    }\n",
       "\n",
       "    .dataframe tbody tr th {\n",
       "        vertical-align: top;\n",
       "    }\n",
       "\n",
       "    .dataframe thead th {\n",
       "        text-align: right;\n",
       "    }\n",
       "</style>\n",
       "<table border=\"1\" class=\"dataframe\">\n",
       "  <thead>\n",
       "    <tr style=\"text-align: right;\">\n",
       "      <th></th>\n",
       "      <th>URLs</th>\n",
       "      <th>Headline</th>\n",
       "      <th>Body</th>\n",
       "      <th>headline+body</th>\n",
       "    </tr>\n",
       "  </thead>\n",
       "  <tbody>\n",
       "    <tr>\n",
       "      <th>1393</th>\n",
       "      <td>http://beforeitsnews.com/sports/2017/10/anothe...</td>\n",
       "      <td>Another Team-Wide Poor Effort</td>\n",
       "      <td>Another Team-Wide Poor Effort\\n% of readers th...</td>\n",
       "      <td>Another Team-Wide Poor EffortAnother Team-Wide...</td>\n",
       "    </tr>\n",
       "    <tr>\n",
       "      <th>563</th>\n",
       "      <td>http://abcnews.go.com/Entertainment/wireStory/...</td>\n",
       "      <td>British novelist Ishiguro wins Nobel Literatur...</td>\n",
       "      <td>Kazuo Ishiguro, the Japanese-born British nove...</td>\n",
       "      <td>British novelist Ishiguro wins Nobel Literatur...</td>\n",
       "    </tr>\n",
       "    <tr>\n",
       "      <th>782</th>\n",
       "      <td>https://www.nytimes.com/2017/10/08/movies/blad...</td>\n",
       "      <td>‘Blade Runner 2049’ Sputters at the Domestic B...</td>\n",
       "      <td>Photo\\nLOS ANGELES — The expensive science-fic...</td>\n",
       "      <td>‘Blade Runner 2049’ Sputters at the Domestic B...</td>\n",
       "    </tr>\n",
       "    <tr>\n",
       "      <th>2586</th>\n",
       "      <td>http://beforeitsnews.com/u-s-politics/2017/10/...</td>\n",
       "      <td>Aung San Suu Kyi Stripped Of Oxford Honor Amid...</td>\n",
       "      <td>Red Flag Warning: These California Wildfires A...</td>\n",
       "      <td>Aung San Suu Kyi Stripped Of Oxford Honor Amid...</td>\n",
       "    </tr>\n",
       "    <tr>\n",
       "      <th>3929</th>\n",
       "      <td>https://www.reuters.com/article/us-people-harv...</td>\n",
       "      <td>Weinstein on indefinite leave as company inves...</td>\n",
       "      <td>FILE PHOTO: Harvey Weinstein poses on the Red ...</td>\n",
       "      <td>Weinstein on indefinite leave as company inves...</td>\n",
       "    </tr>\n",
       "    <tr>\n",
       "      <th>...</th>\n",
       "      <td>...</td>\n",
       "      <td>...</td>\n",
       "      <td>...</td>\n",
       "      <td>...</td>\n",
       "    </tr>\n",
       "    <tr>\n",
       "      <th>768</th>\n",
       "      <td>https://www.activistpost.com/2017/10/smart-met...</td>\n",
       "      <td>Smart Meter Data: Privacy and Cybersecurity</td>\n",
       "      <td>By Catherine J. Frompovich\\nIn February of 201...</td>\n",
       "      <td>Smart Meter Data: Privacy and CybersecurityBy ...</td>\n",
       "    </tr>\n",
       "    <tr>\n",
       "      <th>2679</th>\n",
       "      <td>https://www.activistpost.com/2017/09/new-study...</td>\n",
       "      <td>New Study Provides Further Evidence of Low IQ ...</td>\n",
       "      <td>By Derrick Broze\\nA new study has found that p...</td>\n",
       "      <td>New Study Provides Further Evidence of Low IQ ...</td>\n",
       "    </tr>\n",
       "    <tr>\n",
       "      <th>2299</th>\n",
       "      <td>https://www.reuters.com/article/us-mideast-cri...</td>\n",
       "      <td>Nusra Front, Islamic State clash in Syria's Ha...</td>\n",
       "      <td>BEIRUT (Reuters) - Islamic State took control ...</td>\n",
       "      <td>Nusra Front, Islamic State clash in Syria's Ha...</td>\n",
       "    </tr>\n",
       "    <tr>\n",
       "      <th>1094</th>\n",
       "      <td>http://beforeitsnews.com/sports/2017/10/ravens...</td>\n",
       "      <td>Ravens Again Abandon Running Game</td>\n",
       "      <td>Ravens Again Abandon Running Game\\n(Before It'...</td>\n",
       "      <td>Ravens Again Abandon Running GameRavens Again ...</td>\n",
       "    </tr>\n",
       "    <tr>\n",
       "      <th>3762</th>\n",
       "      <td>http://abcnews.go.com/International/wireStory/...</td>\n",
       "      <td>Iraq says it has retaken one of IS group's las...</td>\n",
       "      <td>Iraqi Prime Minister Haider al-Abadi announced...</td>\n",
       "      <td>Iraq says it has retaken one of IS group's las...</td>\n",
       "    </tr>\n",
       "  </tbody>\n",
       "</table>\n",
       "<p>2991 rows × 4 columns</p>\n",
       "</div>"
      ],
      "text/plain": [
       "                                                   URLs  \\\n",
       "1393  http://beforeitsnews.com/sports/2017/10/anothe...   \n",
       "563   http://abcnews.go.com/Entertainment/wireStory/...   \n",
       "782   https://www.nytimes.com/2017/10/08/movies/blad...   \n",
       "2586  http://beforeitsnews.com/u-s-politics/2017/10/...   \n",
       "3929  https://www.reuters.com/article/us-people-harv...   \n",
       "...                                                 ...   \n",
       "768   https://www.activistpost.com/2017/10/smart-met...   \n",
       "2679  https://www.activistpost.com/2017/09/new-study...   \n",
       "2299  https://www.reuters.com/article/us-mideast-cri...   \n",
       "1094  http://beforeitsnews.com/sports/2017/10/ravens...   \n",
       "3762  http://abcnews.go.com/International/wireStory/...   \n",
       "\n",
       "                                               Headline  \\\n",
       "1393                      Another Team-Wide Poor Effort   \n",
       "563   British novelist Ishiguro wins Nobel Literatur...   \n",
       "782   ‘Blade Runner 2049’ Sputters at the Domestic B...   \n",
       "2586  Aung San Suu Kyi Stripped Of Oxford Honor Amid...   \n",
       "3929  Weinstein on indefinite leave as company inves...   \n",
       "...                                                 ...   \n",
       "768         Smart Meter Data: Privacy and Cybersecurity   \n",
       "2679  New Study Provides Further Evidence of Low IQ ...   \n",
       "2299  Nusra Front, Islamic State clash in Syria's Ha...   \n",
       "1094                  Ravens Again Abandon Running Game   \n",
       "3762  Iraq says it has retaken one of IS group's las...   \n",
       "\n",
       "                                                   Body  \\\n",
       "1393  Another Team-Wide Poor Effort\\n% of readers th...   \n",
       "563   Kazuo Ishiguro, the Japanese-born British nove...   \n",
       "782   Photo\\nLOS ANGELES — The expensive science-fic...   \n",
       "2586  Red Flag Warning: These California Wildfires A...   \n",
       "3929  FILE PHOTO: Harvey Weinstein poses on the Red ...   \n",
       "...                                                 ...   \n",
       "768   By Catherine J. Frompovich\\nIn February of 201...   \n",
       "2679  By Derrick Broze\\nA new study has found that p...   \n",
       "2299  BEIRUT (Reuters) - Islamic State took control ...   \n",
       "1094  Ravens Again Abandon Running Game\\n(Before It'...   \n",
       "3762  Iraqi Prime Minister Haider al-Abadi announced...   \n",
       "\n",
       "                                          headline+body  \n",
       "1393  Another Team-Wide Poor EffortAnother Team-Wide...  \n",
       "563   British novelist Ishiguro wins Nobel Literatur...  \n",
       "782   ‘Blade Runner 2049’ Sputters at the Domestic B...  \n",
       "2586  Aung San Suu Kyi Stripped Of Oxford Honor Amid...  \n",
       "3929  Weinstein on indefinite leave as company inves...  \n",
       "...                                                 ...  \n",
       "768   Smart Meter Data: Privacy and CybersecurityBy ...  \n",
       "2679  New Study Provides Further Evidence of Low IQ ...  \n",
       "2299  Nusra Front, Islamic State clash in Syria's Ha...  \n",
       "1094  Ravens Again Abandon Running GameRavens Again ...  \n",
       "3762  Iraq says it has retaken one of IS group's las...  \n",
       "\n",
       "[2991 rows x 4 columns]"
      ]
     },
     "execution_count": 94,
     "metadata": {},
     "output_type": "execute_result"
    }
   ],
   "source": [
    "X_train"
   ]
  },
  {
   "cell_type": "code",
   "execution_count": 103,
   "metadata": {},
   "outputs": [
    {
     "data": {
      "text/plain": [
       "pandas.core.series.Series"
      ]
     },
     "execution_count": 103,
     "metadata": {},
     "output_type": "execute_result"
    }
   ],
   "source": [
    "type(X_train['URLs'])"
   ]
  },
  {
   "cell_type": "code",
   "execution_count": 104,
   "metadata": {},
   "outputs": [
    {
     "data": {
      "text/plain": [
       "pandas.core.series.Series"
      ]
     },
     "execution_count": 104,
     "metadata": {},
     "output_type": "execute_result"
    }
   ],
   "source": [
    "type(feature['URLs'])"
   ]
  },
  {
   "cell_type": "code",
   "execution_count": 127,
   "metadata": {},
   "outputs": [],
   "source": [
    "final = pd.merge(X_train, feature, on='URLs', how='left')"
   ]
  },
  {
   "cell_type": "code",
   "execution_count": 106,
   "metadata": {},
   "outputs": [
    {
     "data": {
      "text/plain": [
       "(2991, 5)"
      ]
     },
     "execution_count": 106,
     "metadata": {},
     "output_type": "execute_result"
    }
   ],
   "source": [
    "final.shape"
   ]
  },
  {
   "cell_type": "markdown",
   "metadata": {},
   "source": [
    "those urls that have nan ranks were not linked (it is a small dummy data). so replacing their ranks with 0.15"
   ]
  },
  {
   "cell_type": "code",
   "execution_count": 107,
   "metadata": {},
   "outputs": [
    {
     "data": {
      "text/html": [
       "<div>\n",
       "<style scoped>\n",
       "    .dataframe tbody tr th:only-of-type {\n",
       "        vertical-align: middle;\n",
       "    }\n",
       "\n",
       "    .dataframe tbody tr th {\n",
       "        vertical-align: top;\n",
       "    }\n",
       "\n",
       "    .dataframe thead th {\n",
       "        text-align: right;\n",
       "    }\n",
       "</style>\n",
       "<table border=\"1\" class=\"dataframe\">\n",
       "  <thead>\n",
       "    <tr style=\"text-align: right;\">\n",
       "      <th></th>\n",
       "      <th>URLs</th>\n",
       "      <th>Headline</th>\n",
       "      <th>Body</th>\n",
       "      <th>headline+body</th>\n",
       "      <th>rank</th>\n",
       "    </tr>\n",
       "  </thead>\n",
       "  <tbody>\n",
       "    <tr>\n",
       "      <th>0</th>\n",
       "      <td>http://beforeitsnews.com/sports/2017/10/anothe...</td>\n",
       "      <td>Another Team-Wide Poor Effort</td>\n",
       "      <td>Another Team-Wide Poor Effort\\n% of readers th...</td>\n",
       "      <td>Another Team-Wide Poor EffortAnother Team-Wide...</td>\n",
       "      <td>NaN</td>\n",
       "    </tr>\n",
       "    <tr>\n",
       "      <th>1</th>\n",
       "      <td>http://abcnews.go.com/Entertainment/wireStory/...</td>\n",
       "      <td>British novelist Ishiguro wins Nobel Literatur...</td>\n",
       "      <td>Kazuo Ishiguro, the Japanese-born British nove...</td>\n",
       "      <td>British novelist Ishiguro wins Nobel Literatur...</td>\n",
       "      <td>0.182221</td>\n",
       "    </tr>\n",
       "    <tr>\n",
       "      <th>2</th>\n",
       "      <td>https://www.nytimes.com/2017/10/08/movies/blad...</td>\n",
       "      <td>‘Blade Runner 2049’ Sputters at the Domestic B...</td>\n",
       "      <td>Photo\\nLOS ANGELES — The expensive science-fic...</td>\n",
       "      <td>‘Blade Runner 2049’ Sputters at the Domestic B...</td>\n",
       "      <td>NaN</td>\n",
       "    </tr>\n",
       "    <tr>\n",
       "      <th>3</th>\n",
       "      <td>http://beforeitsnews.com/u-s-politics/2017/10/...</td>\n",
       "      <td>Aung San Suu Kyi Stripped Of Oxford Honor Amid...</td>\n",
       "      <td>Red Flag Warning: These California Wildfires A...</td>\n",
       "      <td>Aung San Suu Kyi Stripped Of Oxford Honor Amid...</td>\n",
       "      <td>NaN</td>\n",
       "    </tr>\n",
       "    <tr>\n",
       "      <th>4</th>\n",
       "      <td>https://www.reuters.com/article/us-people-harv...</td>\n",
       "      <td>Weinstein on indefinite leave as company inves...</td>\n",
       "      <td>FILE PHOTO: Harvey Weinstein poses on the Red ...</td>\n",
       "      <td>Weinstein on indefinite leave as company inves...</td>\n",
       "      <td>NaN</td>\n",
       "    </tr>\n",
       "    <tr>\n",
       "      <th>...</th>\n",
       "      <td>...</td>\n",
       "      <td>...</td>\n",
       "      <td>...</td>\n",
       "      <td>...</td>\n",
       "      <td>...</td>\n",
       "    </tr>\n",
       "    <tr>\n",
       "      <th>2986</th>\n",
       "      <td>https://www.activistpost.com/2017/10/smart-met...</td>\n",
       "      <td>Smart Meter Data: Privacy and Cybersecurity</td>\n",
       "      <td>By Catherine J. Frompovich\\nIn February of 201...</td>\n",
       "      <td>Smart Meter Data: Privacy and CybersecurityBy ...</td>\n",
       "      <td>NaN</td>\n",
       "    </tr>\n",
       "    <tr>\n",
       "      <th>2987</th>\n",
       "      <td>https://www.activistpost.com/2017/09/new-study...</td>\n",
       "      <td>New Study Provides Further Evidence of Low IQ ...</td>\n",
       "      <td>By Derrick Broze\\nA new study has found that p...</td>\n",
       "      <td>New Study Provides Further Evidence of Low IQ ...</td>\n",
       "      <td>NaN</td>\n",
       "    </tr>\n",
       "    <tr>\n",
       "      <th>2988</th>\n",
       "      <td>https://www.reuters.com/article/us-mideast-cri...</td>\n",
       "      <td>Nusra Front, Islamic State clash in Syria's Ha...</td>\n",
       "      <td>BEIRUT (Reuters) - Islamic State took control ...</td>\n",
       "      <td>Nusra Front, Islamic State clash in Syria's Ha...</td>\n",
       "      <td>NaN</td>\n",
       "    </tr>\n",
       "    <tr>\n",
       "      <th>2989</th>\n",
       "      <td>http://beforeitsnews.com/sports/2017/10/ravens...</td>\n",
       "      <td>Ravens Again Abandon Running Game</td>\n",
       "      <td>Ravens Again Abandon Running Game\\n(Before It'...</td>\n",
       "      <td>Ravens Again Abandon Running GameRavens Again ...</td>\n",
       "      <td>NaN</td>\n",
       "    </tr>\n",
       "    <tr>\n",
       "      <th>2990</th>\n",
       "      <td>http://abcnews.go.com/International/wireStory/...</td>\n",
       "      <td>Iraq says it has retaken one of IS group's las...</td>\n",
       "      <td>Iraqi Prime Minister Haider al-Abadi announced...</td>\n",
       "      <td>Iraq says it has retaken one of IS group's las...</td>\n",
       "      <td>NaN</td>\n",
       "    </tr>\n",
       "  </tbody>\n",
       "</table>\n",
       "<p>2991 rows × 5 columns</p>\n",
       "</div>"
      ],
      "text/plain": [
       "                                                   URLs  \\\n",
       "0     http://beforeitsnews.com/sports/2017/10/anothe...   \n",
       "1     http://abcnews.go.com/Entertainment/wireStory/...   \n",
       "2     https://www.nytimes.com/2017/10/08/movies/blad...   \n",
       "3     http://beforeitsnews.com/u-s-politics/2017/10/...   \n",
       "4     https://www.reuters.com/article/us-people-harv...   \n",
       "...                                                 ...   \n",
       "2986  https://www.activistpost.com/2017/10/smart-met...   \n",
       "2987  https://www.activistpost.com/2017/09/new-study...   \n",
       "2988  https://www.reuters.com/article/us-mideast-cri...   \n",
       "2989  http://beforeitsnews.com/sports/2017/10/ravens...   \n",
       "2990  http://abcnews.go.com/International/wireStory/...   \n",
       "\n",
       "                                               Headline  \\\n",
       "0                         Another Team-Wide Poor Effort   \n",
       "1     British novelist Ishiguro wins Nobel Literatur...   \n",
       "2     ‘Blade Runner 2049’ Sputters at the Domestic B...   \n",
       "3     Aung San Suu Kyi Stripped Of Oxford Honor Amid...   \n",
       "4     Weinstein on indefinite leave as company inves...   \n",
       "...                                                 ...   \n",
       "2986        Smart Meter Data: Privacy and Cybersecurity   \n",
       "2987  New Study Provides Further Evidence of Low IQ ...   \n",
       "2988  Nusra Front, Islamic State clash in Syria's Ha...   \n",
       "2989                  Ravens Again Abandon Running Game   \n",
       "2990  Iraq says it has retaken one of IS group's las...   \n",
       "\n",
       "                                                   Body  \\\n",
       "0     Another Team-Wide Poor Effort\\n% of readers th...   \n",
       "1     Kazuo Ishiguro, the Japanese-born British nove...   \n",
       "2     Photo\\nLOS ANGELES — The expensive science-fic...   \n",
       "3     Red Flag Warning: These California Wildfires A...   \n",
       "4     FILE PHOTO: Harvey Weinstein poses on the Red ...   \n",
       "...                                                 ...   \n",
       "2986  By Catherine J. Frompovich\\nIn February of 201...   \n",
       "2987  By Derrick Broze\\nA new study has found that p...   \n",
       "2988  BEIRUT (Reuters) - Islamic State took control ...   \n",
       "2989  Ravens Again Abandon Running Game\\n(Before It'...   \n",
       "2990  Iraqi Prime Minister Haider al-Abadi announced...   \n",
       "\n",
       "                                          headline+body      rank  \n",
       "0     Another Team-Wide Poor EffortAnother Team-Wide...       NaN  \n",
       "1     British novelist Ishiguro wins Nobel Literatur...  0.182221  \n",
       "2     ‘Blade Runner 2049’ Sputters at the Domestic B...       NaN  \n",
       "3     Aung San Suu Kyi Stripped Of Oxford Honor Amid...       NaN  \n",
       "4     Weinstein on indefinite leave as company inves...       NaN  \n",
       "...                                                 ...       ...  \n",
       "2986  Smart Meter Data: Privacy and CybersecurityBy ...       NaN  \n",
       "2987  New Study Provides Further Evidence of Low IQ ...       NaN  \n",
       "2988  Nusra Front, Islamic State clash in Syria's Ha...       NaN  \n",
       "2989  Ravens Again Abandon Running GameRavens Again ...       NaN  \n",
       "2990  Iraq says it has retaken one of IS group's las...       NaN  \n",
       "\n",
       "[2991 rows x 5 columns]"
      ]
     },
     "execution_count": 107,
     "metadata": {},
     "output_type": "execute_result"
    }
   ],
   "source": [
    "final"
   ]
  },
  {
   "cell_type": "code",
   "execution_count": 131,
   "metadata": {},
   "outputs": [],
   "source": [
    "final[\"rank\"] = final[\"rank\"].fillna(0.15)"
   ]
  },
  {
   "cell_type": "code",
   "execution_count": 132,
   "metadata": {},
   "outputs": [
    {
     "data": {
      "text/html": [
       "<div>\n",
       "<style scoped>\n",
       "    .dataframe tbody tr th:only-of-type {\n",
       "        vertical-align: middle;\n",
       "    }\n",
       "\n",
       "    .dataframe tbody tr th {\n",
       "        vertical-align: top;\n",
       "    }\n",
       "\n",
       "    .dataframe thead th {\n",
       "        text-align: right;\n",
       "    }\n",
       "</style>\n",
       "<table border=\"1\" class=\"dataframe\">\n",
       "  <thead>\n",
       "    <tr style=\"text-align: right;\">\n",
       "      <th></th>\n",
       "      <th>URLs</th>\n",
       "      <th>headline+body</th>\n",
       "      <th>rank</th>\n",
       "    </tr>\n",
       "  </thead>\n",
       "  <tbody>\n",
       "    <tr>\n",
       "      <th>0</th>\n",
       "      <td>http://beforeitsnews.com/sports/2017/10/anothe...</td>\n",
       "      <td>Another Team-Wide Poor EffortAnother Team-Wide...</td>\n",
       "      <td>0.150000</td>\n",
       "    </tr>\n",
       "    <tr>\n",
       "      <th>1</th>\n",
       "      <td>http://abcnews.go.com/Entertainment/wireStory/...</td>\n",
       "      <td>British novelist Ishiguro wins Nobel Literatur...</td>\n",
       "      <td>0.182221</td>\n",
       "    </tr>\n",
       "    <tr>\n",
       "      <th>2</th>\n",
       "      <td>https://www.nytimes.com/2017/10/08/movies/blad...</td>\n",
       "      <td>‘Blade Runner 2049’ Sputters at the Domestic B...</td>\n",
       "      <td>0.150000</td>\n",
       "    </tr>\n",
       "    <tr>\n",
       "      <th>3</th>\n",
       "      <td>http://beforeitsnews.com/u-s-politics/2017/10/...</td>\n",
       "      <td>Aung San Suu Kyi Stripped Of Oxford Honor Amid...</td>\n",
       "      <td>0.150000</td>\n",
       "    </tr>\n",
       "    <tr>\n",
       "      <th>4</th>\n",
       "      <td>https://www.reuters.com/article/us-people-harv...</td>\n",
       "      <td>Weinstein on indefinite leave as company inves...</td>\n",
       "      <td>0.150000</td>\n",
       "    </tr>\n",
       "    <tr>\n",
       "      <th>...</th>\n",
       "      <td>...</td>\n",
       "      <td>...</td>\n",
       "      <td>...</td>\n",
       "    </tr>\n",
       "    <tr>\n",
       "      <th>2986</th>\n",
       "      <td>https://www.activistpost.com/2017/10/smart-met...</td>\n",
       "      <td>Smart Meter Data: Privacy and CybersecurityBy ...</td>\n",
       "      <td>0.150000</td>\n",
       "    </tr>\n",
       "    <tr>\n",
       "      <th>2987</th>\n",
       "      <td>https://www.activistpost.com/2017/09/new-study...</td>\n",
       "      <td>New Study Provides Further Evidence of Low IQ ...</td>\n",
       "      <td>0.150000</td>\n",
       "    </tr>\n",
       "    <tr>\n",
       "      <th>2988</th>\n",
       "      <td>https://www.reuters.com/article/us-mideast-cri...</td>\n",
       "      <td>Nusra Front, Islamic State clash in Syria's Ha...</td>\n",
       "      <td>0.150000</td>\n",
       "    </tr>\n",
       "    <tr>\n",
       "      <th>2989</th>\n",
       "      <td>http://beforeitsnews.com/sports/2017/10/ravens...</td>\n",
       "      <td>Ravens Again Abandon Running GameRavens Again ...</td>\n",
       "      <td>0.150000</td>\n",
       "    </tr>\n",
       "    <tr>\n",
       "      <th>2990</th>\n",
       "      <td>http://abcnews.go.com/International/wireStory/...</td>\n",
       "      <td>Iraq says it has retaken one of IS group's las...</td>\n",
       "      <td>0.150000</td>\n",
       "    </tr>\n",
       "  </tbody>\n",
       "</table>\n",
       "<p>2991 rows × 3 columns</p>\n",
       "</div>"
      ],
      "text/plain": [
       "                                                   URLs  \\\n",
       "0     http://beforeitsnews.com/sports/2017/10/anothe...   \n",
       "1     http://abcnews.go.com/Entertainment/wireStory/...   \n",
       "2     https://www.nytimes.com/2017/10/08/movies/blad...   \n",
       "3     http://beforeitsnews.com/u-s-politics/2017/10/...   \n",
       "4     https://www.reuters.com/article/us-people-harv...   \n",
       "...                                                 ...   \n",
       "2986  https://www.activistpost.com/2017/10/smart-met...   \n",
       "2987  https://www.activistpost.com/2017/09/new-study...   \n",
       "2988  https://www.reuters.com/article/us-mideast-cri...   \n",
       "2989  http://beforeitsnews.com/sports/2017/10/ravens...   \n",
       "2990  http://abcnews.go.com/International/wireStory/...   \n",
       "\n",
       "                                          headline+body      rank  \n",
       "0     Another Team-Wide Poor EffortAnother Team-Wide...  0.150000  \n",
       "1     British novelist Ishiguro wins Nobel Literatur...  0.182221  \n",
       "2     ‘Blade Runner 2049’ Sputters at the Domestic B...  0.150000  \n",
       "3     Aung San Suu Kyi Stripped Of Oxford Honor Amid...  0.150000  \n",
       "4     Weinstein on indefinite leave as company inves...  0.150000  \n",
       "...                                                 ...       ...  \n",
       "2986  Smart Meter Data: Privacy and CybersecurityBy ...  0.150000  \n",
       "2987  New Study Provides Further Evidence of Low IQ ...  0.150000  \n",
       "2988  Nusra Front, Islamic State clash in Syria's Ha...  0.150000  \n",
       "2989  Ravens Again Abandon Running GameRavens Again ...  0.150000  \n",
       "2990  Iraq says it has retaken one of IS group's las...  0.150000  \n",
       "\n",
       "[2991 rows x 3 columns]"
      ]
     },
     "execution_count": 132,
     "metadata": {},
     "output_type": "execute_result"
    }
   ],
   "source": [
    "final"
   ]
  },
  {
   "cell_type": "code",
   "execution_count": 92,
   "metadata": {},
   "outputs": [
    {
     "data": {
      "text/plain": [
       "(2991,)"
      ]
     },
     "execution_count": 92,
     "metadata": {},
     "output_type": "execute_result"
    }
   ],
   "source": [
    "y_train.shape"
   ]
  },
  {
   "cell_type": "code",
   "execution_count": 129,
   "metadata": {},
   "outputs": [],
   "source": [
    "final = final.drop(['Headline','Body'], axis = 1)"
   ]
  },
  {
   "cell_type": "code",
   "execution_count": 133,
   "metadata": {},
   "outputs": [
    {
     "data": {
      "text/html": [
       "<div>\n",
       "<style scoped>\n",
       "    .dataframe tbody tr th:only-of-type {\n",
       "        vertical-align: middle;\n",
       "    }\n",
       "\n",
       "    .dataframe tbody tr th {\n",
       "        vertical-align: top;\n",
       "    }\n",
       "\n",
       "    .dataframe thead th {\n",
       "        text-align: right;\n",
       "    }\n",
       "</style>\n",
       "<table border=\"1\" class=\"dataframe\">\n",
       "  <thead>\n",
       "    <tr style=\"text-align: right;\">\n",
       "      <th></th>\n",
       "      <th>URLs</th>\n",
       "      <th>headline+body</th>\n",
       "      <th>rank</th>\n",
       "    </tr>\n",
       "  </thead>\n",
       "  <tbody>\n",
       "    <tr>\n",
       "      <th>0</th>\n",
       "      <td>http://beforeitsnews.com/sports/2017/10/anothe...</td>\n",
       "      <td>Another Team-Wide Poor EffortAnother Team-Wide...</td>\n",
       "      <td>0.150000</td>\n",
       "    </tr>\n",
       "    <tr>\n",
       "      <th>1</th>\n",
       "      <td>http://abcnews.go.com/Entertainment/wireStory/...</td>\n",
       "      <td>British novelist Ishiguro wins Nobel Literatur...</td>\n",
       "      <td>0.182221</td>\n",
       "    </tr>\n",
       "    <tr>\n",
       "      <th>2</th>\n",
       "      <td>https://www.nytimes.com/2017/10/08/movies/blad...</td>\n",
       "      <td>‘Blade Runner 2049’ Sputters at the Domestic B...</td>\n",
       "      <td>0.150000</td>\n",
       "    </tr>\n",
       "    <tr>\n",
       "      <th>3</th>\n",
       "      <td>http://beforeitsnews.com/u-s-politics/2017/10/...</td>\n",
       "      <td>Aung San Suu Kyi Stripped Of Oxford Honor Amid...</td>\n",
       "      <td>0.150000</td>\n",
       "    </tr>\n",
       "    <tr>\n",
       "      <th>4</th>\n",
       "      <td>https://www.reuters.com/article/us-people-harv...</td>\n",
       "      <td>Weinstein on indefinite leave as company inves...</td>\n",
       "      <td>0.150000</td>\n",
       "    </tr>\n",
       "    <tr>\n",
       "      <th>...</th>\n",
       "      <td>...</td>\n",
       "      <td>...</td>\n",
       "      <td>...</td>\n",
       "    </tr>\n",
       "    <tr>\n",
       "      <th>2986</th>\n",
       "      <td>https://www.activistpost.com/2017/10/smart-met...</td>\n",
       "      <td>Smart Meter Data: Privacy and CybersecurityBy ...</td>\n",
       "      <td>0.150000</td>\n",
       "    </tr>\n",
       "    <tr>\n",
       "      <th>2987</th>\n",
       "      <td>https://www.activistpost.com/2017/09/new-study...</td>\n",
       "      <td>New Study Provides Further Evidence of Low IQ ...</td>\n",
       "      <td>0.150000</td>\n",
       "    </tr>\n",
       "    <tr>\n",
       "      <th>2988</th>\n",
       "      <td>https://www.reuters.com/article/us-mideast-cri...</td>\n",
       "      <td>Nusra Front, Islamic State clash in Syria's Ha...</td>\n",
       "      <td>0.150000</td>\n",
       "    </tr>\n",
       "    <tr>\n",
       "      <th>2989</th>\n",
       "      <td>http://beforeitsnews.com/sports/2017/10/ravens...</td>\n",
       "      <td>Ravens Again Abandon Running GameRavens Again ...</td>\n",
       "      <td>0.150000</td>\n",
       "    </tr>\n",
       "    <tr>\n",
       "      <th>2990</th>\n",
       "      <td>http://abcnews.go.com/International/wireStory/...</td>\n",
       "      <td>Iraq says it has retaken one of IS group's las...</td>\n",
       "      <td>0.150000</td>\n",
       "    </tr>\n",
       "  </tbody>\n",
       "</table>\n",
       "<p>2991 rows × 3 columns</p>\n",
       "</div>"
      ],
      "text/plain": [
       "                                                   URLs  \\\n",
       "0     http://beforeitsnews.com/sports/2017/10/anothe...   \n",
       "1     http://abcnews.go.com/Entertainment/wireStory/...   \n",
       "2     https://www.nytimes.com/2017/10/08/movies/blad...   \n",
       "3     http://beforeitsnews.com/u-s-politics/2017/10/...   \n",
       "4     https://www.reuters.com/article/us-people-harv...   \n",
       "...                                                 ...   \n",
       "2986  https://www.activistpost.com/2017/10/smart-met...   \n",
       "2987  https://www.activistpost.com/2017/09/new-study...   \n",
       "2988  https://www.reuters.com/article/us-mideast-cri...   \n",
       "2989  http://beforeitsnews.com/sports/2017/10/ravens...   \n",
       "2990  http://abcnews.go.com/International/wireStory/...   \n",
       "\n",
       "                                          headline+body      rank  \n",
       "0     Another Team-Wide Poor EffortAnother Team-Wide...  0.150000  \n",
       "1     British novelist Ishiguro wins Nobel Literatur...  0.182221  \n",
       "2     ‘Blade Runner 2049’ Sputters at the Domestic B...  0.150000  \n",
       "3     Aung San Suu Kyi Stripped Of Oxford Honor Amid...  0.150000  \n",
       "4     Weinstein on indefinite leave as company inves...  0.150000  \n",
       "...                                                 ...       ...  \n",
       "2986  Smart Meter Data: Privacy and CybersecurityBy ...  0.150000  \n",
       "2987  New Study Provides Further Evidence of Low IQ ...  0.150000  \n",
       "2988  Nusra Front, Islamic State clash in Syria's Ha...  0.150000  \n",
       "2989  Ravens Again Abandon Running GameRavens Again ...  0.150000  \n",
       "2990  Iraq says it has retaken one of IS group's las...  0.150000  \n",
       "\n",
       "[2991 rows x 3 columns]"
      ]
     },
     "execution_count": 133,
     "metadata": {},
     "output_type": "execute_result"
    }
   ],
   "source": [
    "final"
   ]
  },
  {
   "cell_type": "code",
   "execution_count": 140,
   "metadata": {},
   "outputs": [
    {
     "data": {
      "text/html": [
       "<div>\n",
       "<style scoped>\n",
       "    .dataframe tbody tr th:only-of-type {\n",
       "        vertical-align: middle;\n",
       "    }\n",
       "\n",
       "    .dataframe tbody tr th {\n",
       "        vertical-align: top;\n",
       "    }\n",
       "\n",
       "    .dataframe thead th {\n",
       "        text-align: right;\n",
       "    }\n",
       "</style>\n",
       "<table border=\"1\" class=\"dataframe\">\n",
       "  <thead>\n",
       "    <tr style=\"text-align: right;\">\n",
       "      <th></th>\n",
       "      <th>URLs</th>\n",
       "      <th>headline+body</th>\n",
       "      <th>rank</th>\n",
       "    </tr>\n",
       "  </thead>\n",
       "  <tbody>\n",
       "    <tr>\n",
       "      <th>0</th>\n",
       "      <td>http://beforeitsnews.com/sports/2017/10/anothe...</td>\n",
       "      <td>Another Team-Wide Poor EffortAnother Team-Wide...</td>\n",
       "      <td>0.150</td>\n",
       "    </tr>\n",
       "    <tr>\n",
       "      <th>1</th>\n",
       "      <td>http://abcnews.go.com/Entertainment/wireStory/...</td>\n",
       "      <td>British novelist Ishiguro wins Nobel Literatur...</td>\n",
       "      <td>0.182</td>\n",
       "    </tr>\n",
       "    <tr>\n",
       "      <th>2</th>\n",
       "      <td>https://www.nytimes.com/2017/10/08/movies/blad...</td>\n",
       "      <td>‘Blade Runner 2049’ Sputters at the Domestic B...</td>\n",
       "      <td>0.150</td>\n",
       "    </tr>\n",
       "    <tr>\n",
       "      <th>3</th>\n",
       "      <td>http://beforeitsnews.com/u-s-politics/2017/10/...</td>\n",
       "      <td>Aung San Suu Kyi Stripped Of Oxford Honor Amid...</td>\n",
       "      <td>0.150</td>\n",
       "    </tr>\n",
       "    <tr>\n",
       "      <th>4</th>\n",
       "      <td>https://www.reuters.com/article/us-people-harv...</td>\n",
       "      <td>Weinstein on indefinite leave as company inves...</td>\n",
       "      <td>0.150</td>\n",
       "    </tr>\n",
       "    <tr>\n",
       "      <th>...</th>\n",
       "      <td>...</td>\n",
       "      <td>...</td>\n",
       "      <td>...</td>\n",
       "    </tr>\n",
       "    <tr>\n",
       "      <th>2986</th>\n",
       "      <td>https://www.activistpost.com/2017/10/smart-met...</td>\n",
       "      <td>Smart Meter Data: Privacy and CybersecurityBy ...</td>\n",
       "      <td>0.150</td>\n",
       "    </tr>\n",
       "    <tr>\n",
       "      <th>2987</th>\n",
       "      <td>https://www.activistpost.com/2017/09/new-study...</td>\n",
       "      <td>New Study Provides Further Evidence of Low IQ ...</td>\n",
       "      <td>0.150</td>\n",
       "    </tr>\n",
       "    <tr>\n",
       "      <th>2988</th>\n",
       "      <td>https://www.reuters.com/article/us-mideast-cri...</td>\n",
       "      <td>Nusra Front, Islamic State clash in Syria's Ha...</td>\n",
       "      <td>0.150</td>\n",
       "    </tr>\n",
       "    <tr>\n",
       "      <th>2989</th>\n",
       "      <td>http://beforeitsnews.com/sports/2017/10/ravens...</td>\n",
       "      <td>Ravens Again Abandon Running GameRavens Again ...</td>\n",
       "      <td>0.150</td>\n",
       "    </tr>\n",
       "    <tr>\n",
       "      <th>2990</th>\n",
       "      <td>http://abcnews.go.com/International/wireStory/...</td>\n",
       "      <td>Iraq says it has retaken one of IS group's las...</td>\n",
       "      <td>0.150</td>\n",
       "    </tr>\n",
       "  </tbody>\n",
       "</table>\n",
       "<p>2991 rows × 3 columns</p>\n",
       "</div>"
      ],
      "text/plain": [
       "                                                   URLs  \\\n",
       "0     http://beforeitsnews.com/sports/2017/10/anothe...   \n",
       "1     http://abcnews.go.com/Entertainment/wireStory/...   \n",
       "2     https://www.nytimes.com/2017/10/08/movies/blad...   \n",
       "3     http://beforeitsnews.com/u-s-politics/2017/10/...   \n",
       "4     https://www.reuters.com/article/us-people-harv...   \n",
       "...                                                 ...   \n",
       "2986  https://www.activistpost.com/2017/10/smart-met...   \n",
       "2987  https://www.activistpost.com/2017/09/new-study...   \n",
       "2988  https://www.reuters.com/article/us-mideast-cri...   \n",
       "2989  http://beforeitsnews.com/sports/2017/10/ravens...   \n",
       "2990  http://abcnews.go.com/International/wireStory/...   \n",
       "\n",
       "                                          headline+body   rank  \n",
       "0     Another Team-Wide Poor EffortAnother Team-Wide...  0.150  \n",
       "1     British novelist Ishiguro wins Nobel Literatur...  0.182  \n",
       "2     ‘Blade Runner 2049’ Sputters at the Domestic B...  0.150  \n",
       "3     Aung San Suu Kyi Stripped Of Oxford Honor Amid...  0.150  \n",
       "4     Weinstein on indefinite leave as company inves...  0.150  \n",
       "...                                                 ...    ...  \n",
       "2986  Smart Meter Data: Privacy and CybersecurityBy ...  0.150  \n",
       "2987  New Study Provides Further Evidence of Low IQ ...  0.150  \n",
       "2988  Nusra Front, Islamic State clash in Syria's Ha...  0.150  \n",
       "2989  Ravens Again Abandon Running GameRavens Again ...  0.150  \n",
       "2990  Iraq says it has retaken one of IS group's las...  0.150  \n",
       "\n",
       "[2991 rows x 3 columns]"
      ]
     },
     "execution_count": 140,
     "metadata": {},
     "output_type": "execute_result"
    }
   ],
   "source": [
    "final.round(3)"
   ]
  },
  {
   "cell_type": "code",
   "execution_count": 144,
   "metadata": {},
   "outputs": [],
   "source": [
    "final = final.fillna(final.mean())"
   ]
  },
  {
   "cell_type": "code",
   "execution_count": 145,
   "metadata": {},
   "outputs": [
    {
     "name": "stderr",
     "output_type": "stream",
     "text": [
      "C:\\Users\\himab\\Anaconda3\\lib\\site-packages\\sklearn\\model_selection\\_validation.py:536: FitFailedWarning: Estimator fit failed. The score on this train-test partition for these parameters will be set to nan. Details: \n",
      "ValueError: Input contains NaN, infinity or a value too large for dtype('float64').\n",
      "\n",
      "  FitFailedWarning)\n",
      "C:\\Users\\himab\\Anaconda3\\lib\\site-packages\\sklearn\\model_selection\\_validation.py:536: FitFailedWarning: Estimator fit failed. The score on this train-test partition for these parameters will be set to nan. Details: \n",
      "ValueError: Input contains NaN, infinity or a value too large for dtype('float64').\n",
      "\n",
      "  FitFailedWarning)\n",
      "C:\\Users\\himab\\Anaconda3\\lib\\site-packages\\sklearn\\model_selection\\_validation.py:536: FitFailedWarning: Estimator fit failed. The score on this train-test partition for these parameters will be set to nan. Details: \n",
      "ValueError: Input contains NaN, infinity or a value too large for dtype('float64').\n",
      "\n",
      "  FitFailedWarning)\n",
      "C:\\Users\\himab\\Anaconda3\\lib\\site-packages\\sklearn\\model_selection\\_validation.py:536: FitFailedWarning: Estimator fit failed. The score on this train-test partition for these parameters will be set to nan. Details: \n",
      "ValueError: Input contains NaN, infinity or a value too large for dtype('float64').\n",
      "\n",
      "  FitFailedWarning)\n",
      "C:\\Users\\himab\\Anaconda3\\lib\\site-packages\\sklearn\\model_selection\\_validation.py:536: FitFailedWarning: Estimator fit failed. The score on this train-test partition for these parameters will be set to nan. Details: \n",
      "ValueError: Input contains NaN, infinity or a value too large for dtype('float64').\n",
      "\n",
      "  FitFailedWarning)\n"
     ]
    },
    {
     "data": {
      "text/plain": [
       "nan"
      ]
     },
     "execution_count": 145,
     "metadata": {},
     "output_type": "execute_result"
    }
   ],
   "source": [
    "#model\n",
    "\n",
    "preprocess = make_column_transformer(\n",
    "    (TargetEncoder(), 'URLs'),(CountVectorizer(),'headline+body'))\n",
    "model = make_pipeline(preprocess, LinearSVC(max_iter=1000, tol=0.0001, dual = False))\n",
    "scores = cross_val_score(model, final, y_train)\n",
    "np.mean(scores)"
   ]
  },
  {
   "cell_type": "code",
   "execution_count": 137,
   "metadata": {},
   "outputs": [],
   "source": [
    "final = final.replace([np.inf, -np.inf], np.nan)"
   ]
  },
  {
   "cell_type": "code",
   "execution_count": 138,
   "metadata": {},
   "outputs": [
    {
     "data": {
      "text/plain": [
       "URLs             0\n",
       "headline+body    0\n",
       "rank             0\n",
       "dtype: int64"
      ]
     },
     "execution_count": 138,
     "metadata": {},
     "output_type": "execute_result"
    }
   ],
   "source": [
    "final.isna().sum()"
   ]
  },
  {
   "cell_type": "code",
   "execution_count": 139,
   "metadata": {},
   "outputs": [
    {
     "data": {
      "text/plain": [
       "True"
      ]
     },
     "execution_count": 139,
     "metadata": {},
     "output_type": "execute_result"
    }
   ],
   "source": [
    "final.notnull().values.all()"
   ]
  },
  {
   "cell_type": "markdown",
   "metadata": {},
   "source": [
    "There are no infinity or null values."
   ]
  }
 ],
 "metadata": {
  "kernelspec": {
   "display_name": "Python 3",
   "language": "python",
   "name": "python3"
  },
  "language_info": {
   "codemirror_mode": {
    "name": "ipython",
    "version": 3
   },
   "file_extension": ".py",
   "mimetype": "text/x-python",
   "name": "python",
   "nbconvert_exporter": "python",
   "pygments_lexer": "ipython3",
   "version": "3.7.4"
  }
 },
 "nbformat": 4,
 "nbformat_minor": 4
}
